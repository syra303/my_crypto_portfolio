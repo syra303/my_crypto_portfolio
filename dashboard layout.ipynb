{
 "cells": [
  {
   "cell_type": "code",
   "execution_count": null,
   "id": "continental-project",
   "metadata": {},
   "outputs": [],
   "source": [
    "#will need to do pip install for most of these, since we do not have these libraries\n",
    "import dash\n",
    "import dash_core_components as dcc\n",
    "import dash_html_components as html\n",
    "from dash.dependencies import Output, Input\n",
    "import plotly.express as px\n",
    "import dash_bootstrap_components as dbc\n",
    "import plotly.graph_objects as go\n",
    "import dash_table"
   ]
  },
  {
   "cell_type": "code",
   "execution_count": null,
   "id": "postal-basin",
   "metadata": {},
   "outputs": [],
   "source": [
    "#The Layout is divided into 6 different parts, Title at the top, three spaces on the top for \"graphs\" and two at the bottom, \n",
    "#width and height can be changed. \n",
    "app.layout = dbc.Container(\n",
    "    [\n",
    "        dbc.Row(dbc.Col(html.H2('Title here', className='text-center text-primary, mb-3'))),  # row for title\n",
    "        \n",
    "        dbc.Row([  # start of row after the title\n",
    "            dbc.Col([  # first column on second row\n",
    "            html.H5('Title', className='text-center'),\n",
    "            dcc.Graph(id=''#type of graph we want goes here,\n",
    "                      figure=#function goes here,\n",
    "                      style={'height':550}),\n",
    "            html.Hr(),\n",
    "            ], width={'size': 6, 'offset': 0, 'order': 1}),  # width first column on second row\n",
    "            dbc.Col([  # second column on second row\n",
    "            html.H5('title', className='text-center'),#title goes here between ''\n",
    "            dcc.Graph(id='', #type of graph\n",
    "                      figure=#function\n",
    "                      style={'height':550}),\n",
    "            html.Hr()\n",
    "            ], width={'size': 3, 'offset': 0, 'order': 2}),  # width second column on second row\n",
    "            dbc.Col([  # third column on second row\n",
    "            html.H5('title', className='text-center'), #title here\n",
    "            dcc.Graph(id='', #type of graph\n",
    "                      figure=#function,\n",
    "                      style={'height':550}),\n",
    "            html.Hr()\n",
    "            ], width={'size': 3, 'offset': 0, 'order': 3}),  # width third column on second row\n",
    "        ]),  # end of second row\n",
    "        \n",
    "        dbc.Row([  # bottom row\n",
    "            dbc.Col([  # first column on bottom row\n",
    "                html.H5('Title here', className='text-center'),\n",
    "                dcc.Graph(id=''#type of graph\n",
    "                      figure=function,\n",
    "                      style={'height':380}),\n",
    "            ], width={'size': 8, 'offset': 0, 'order': 1}),  # width first column on second row\n",
    "             dbc.Col([  # second column on third row\n",
    "                html.H5('title', className='text-center'),\n",
    "                dcc.Graph(id='', #type of graph\n",
    "                      figure = function,\n",
    "                      style={'height':380}),\n",
    "            ], width={'size': 4, 'offset': 0, 'order': 2}),  # width second column on second row\n",
    "        ])  # end of third row\n",
    "        \n",
    "    ], fluid=True)\n",
    "\n",
    "if __name__ == '__main__': \n",
    "    app.run_server()\n",
    "#if it doesnt run try:\n",
    "\n",
    "#if __name__ == \"__main__\":\n",
    "    #app.run_server(debug=True, port=8058)\n",
    "    "
   ]
  }
 ],
 "metadata": {
  "kernelspec": {
   "display_name": "Python 3",
   "language": "python",
   "name": "python3"
  },
  "language_info": {
   "codemirror_mode": {
    "name": "ipython",
    "version": 3
   },
   "file_extension": ".py",
   "mimetype": "text/x-python",
   "name": "python",
   "nbconvert_exporter": "python",
   "pygments_lexer": "ipython3",
   "version": "3.8.5"
  }
 },
 "nbformat": 4,
 "nbformat_minor": 5
}
